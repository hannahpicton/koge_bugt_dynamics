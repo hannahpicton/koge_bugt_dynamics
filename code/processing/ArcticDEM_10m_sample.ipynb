{
 "cells": [
  {
   "cell_type": "code",
   "execution_count": 2,
   "metadata": {},
   "outputs": [],
   "source": [
    "# Import required modules\n",
    "import os\n",
    "import numpy as np\n",
    "import pandas as pd\n",
    "import geopandas as gpd\n",
    "import rioxarray as rxr\n",
    "import pandas as pd\n",
    "import matplotlib.pyplot as plt\n",
    "import matplotlib.dates as mdates\n",
    "import matplotlib.ticker as ticker"
   ]
  },
  {
   "cell_type": "markdown",
   "metadata": {},
   "source": [
    "### Koge Bugt North"
   ]
  },
  {
   "cell_type": "code",
   "execution_count": null,
   "metadata": {},
   "outputs": [
    {
     "name": "stdout",
     "output_type": "stream",
     "text": [
      "Data extraction complete and CSV file saved.\n"
     ]
    }
   ],
   "source": [
    "# Define the path to the folder containing the co-registered DEMs\n",
    "input_folder = 'R:/KOGE_BUGT/QGIS/ArcticDEM/Koge_Bugt_North/kogebugtnorth_data_geoid_corrected/'\n",
    "sample_points = 'R:/KOGE_BUGT/QGIS/ArcticDEM/Koge_Bugt_North/koge_bugt_N_10m_sample.gpkg'\n",
    "output_csv_path = 'R:/KOGE_BUGT/github/data/ArcticDEM_profiles/koge_bugt_N_ArcticDEM_10M.csv'\n",
    "\n",
    "# Load the GeoPackage and initialize an empty Dataframe to store the results\n",
    "points = gpd.read_file(sample_points)\n",
    "results_df = pd.DataFrame({'distance_from_T': points['distance']})\n",
    "\n",
    "# Loop through each TIFF file in the directory\n",
    "for filename in os.listdir(input_folder):\n",
    "    if filename.endswith('_coreg.tif'):\n",
    "        date = filename.split('_')[0]  # Extract the date from the filename\n",
    "        raster_path = os.path.join(input_folder, filename)\n",
    "        try:\n",
    "            raster = rxr.open_rasterio(raster_path, masked=True)\n",
    "            for idx, point in points.iterrows():\n",
    "                extracted_values = raster.sel(x=point.geometry.x, y=point.geometry.y, method=\"nearest\")\n",
    "                if extracted_values.size > 0 and not extracted_values.isnull().all():\n",
    "                    results_df.at[idx, date] = extracted_values.values.item()\n",
    "                else:\n",
    "                    results_df.at[idx, date] = pd.NA\n",
    "        except Exception as e:\n",
    "            print(f\"Error processing {filename}: {e}\")\n",
    "            continue  # Skip to the next file\n",
    "\n",
    "# Save the results to a CSV file\n",
    "results_df.to_csv(output_csv_path, index=False)\n",
    "print(\"Data extraction complete and CSV file saved.\")"
   ]
  },
  {
   "cell_type": "markdown",
   "metadata": {},
   "source": [
    "### Koge Bugt Central"
   ]
  },
  {
   "cell_type": "code",
   "execution_count": null,
   "metadata": {},
   "outputs": [],
   "source": [
    "# Define the path to the folder containing the co-registered DEMs\n",
    "input_folder = 'R:/KOGE_BUGT/QGIS/ArcticDEM/Koge_Bugt_Central/kogebugtcentral_data_geoid_corrected/'\n",
    "sample_points = 'R:/KOGE_BUGT/QGIS/ArcticDEM/Koge_Bugt_Central/koge_bugt_C_10m_sample.gpkg'\n",
    "output_csv_path = 'R:/KOGE_BUGT/github/data/ArcticDEM_profiles/koge_bugt_C_ArcticDEM_10M.csv'\n",
    "\n",
    "# Load the GeoPackage and initialize an empty Dataframe to store the results\n",
    "points = gpd.read_file(sample_points)\n",
    "results_df = pd.DataFrame({'distance_from_T': points['distance']})\n",
    "\n",
    "# Loop through each TIFF file in the directory\n",
    "for filename in os.listdir(input_folder):\n",
    "    if filename.endswith('_coreg.tif'):\n",
    "        date = filename.split('_')[0]  # Extract the date from the filename\n",
    "        raster_path = os.path.join(input_folder, filename)\n",
    "        try:\n",
    "            raster = rxr.open_rasterio(raster_path, masked=True)\n",
    "            for idx, point in points.iterrows():\n",
    "                extracted_values = raster.sel(x=point.geometry.x, y=point.geometry.y, method=\"nearest\")\n",
    "                if extracted_values.size > 0 and not extracted_values.isnull().all():\n",
    "                    results_df.at[idx, date] = extracted_values.values.item()\n",
    "                else:\n",
    "                    results_df.at[idx, date] = pd.NA\n",
    "        except Exception as e:\n",
    "            print(f\"Error processing {filename}: {e}\")\n",
    "            continue  # Skip to the next file\n",
    "\n",
    "# Save the results to a CSV file\n",
    "results_df.to_csv(output_csv_path, index=False)\n",
    "print(\"Data extraction complete and CSV file saved.\")"
   ]
  },
  {
   "cell_type": "markdown",
   "metadata": {},
   "source": [
    "### Koge Bugt South"
   ]
  },
  {
   "cell_type": "code",
   "execution_count": null,
   "metadata": {},
   "outputs": [],
   "source": [
    "# Define the path to the folder containing the co-registered DEMs\n",
    "input_folder = 'R:/KOGE_BUGT/QGIS/ArcticDEM/Koge_Bugt_South/kogebugtsouth_data_geoid_corrected/'\n",
    "sample_points = 'R:/KOGE_BUGT/QGIS/ArcticDEM/Koge_Bugt_South/koge_bugt_S_10m_sample.gpkg'\n",
    "output_csv_path = 'R:/KOGE_BUGT/github/data/ArcticDEM_profiles/koge_bugt_S_ArcticDEM_10M.csv'\n",
    "\n",
    "# Load the GeoPackage and initialize an empty Dataframe to store the results\n",
    "points = gpd.read_file(sample_points)\n",
    "results_df = pd.DataFrame({'distance_from_T': points['distance']})\n",
    "\n",
    "# Loop through each TIFF file in the directory\n",
    "for filename in os.listdir(input_folder):\n",
    "    if filename.endswith('_coreg.tif'):\n",
    "        date = filename.split('_')[0]  # Extract the date from the filename\n",
    "        raster_path = os.path.join(input_folder, filename)\n",
    "        try:\n",
    "            raster = rxr.open_rasterio(raster_path, masked=True)\n",
    "            for idx, point in points.iterrows():\n",
    "                extracted_values = raster.sel(x=point.geometry.x, y=point.geometry.y, method=\"nearest\")\n",
    "                if extracted_values.size > 0 and not extracted_values.isnull().all():\n",
    "                    results_df.at[idx, date] = extracted_values.values.item()\n",
    "                else:\n",
    "                    results_df.at[idx, date] = pd.NA\n",
    "        except Exception as e:\n",
    "            print(f\"Error processing {filename}: {e}\")\n",
    "            continue  # Skip to the next file\n",
    "\n",
    "# Save the results to a CSV file\n",
    "results_df.to_csv(output_csv_path, index=False)\n",
    "print(\"Data extraction complete and CSV file saved.\")"
   ]
  }
 ],
 "metadata": {
  "kernelspec": {
   "display_name": "glaciology",
   "language": "python",
   "name": "python3"
  },
  "language_info": {
   "codemirror_mode": {
    "name": "ipython",
    "version": 3
   },
   "file_extension": ".py",
   "mimetype": "text/x-python",
   "name": "python",
   "nbconvert_exporter": "python",
   "pygments_lexer": "ipython3",
   "version": "3.9.12"
  }
 },
 "nbformat": 4,
 "nbformat_minor": 2
}
