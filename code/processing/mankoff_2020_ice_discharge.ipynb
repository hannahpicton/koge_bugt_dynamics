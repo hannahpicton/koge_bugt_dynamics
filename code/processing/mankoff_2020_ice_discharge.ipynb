{
 "cells": [
  {
   "cell_type": "code",
   "execution_count": 2,
   "metadata": {},
   "outputs": [],
   "source": [
    "# IMPORT REQUIRED MODULES \n",
    "import pandas as pd\n",
    "import matplotlib.pyplot as plt\n",
    "import matplotlib.dates as mdates\n",
    "import numpy as np"
   ]
  },
  {
   "cell_type": "code",
   "execution_count": 3,
   "metadata": {},
   "outputs": [],
   "source": [
    "discharge_file = 'R:/KOGE_BUGT/github/data/mankoff_2020_ice_discharge/sector_D.csv'\n",
    "error_file = 'R:/KOGE_BUGT/github/data/mankoff_2020_ice_discharge/sector_err.csv'\n",
    "coverage_file = 'R:/KOGE_BUGT/github/data/mankoff_2020_ice_discharge/sector_coverage.csv'\n",
    "output_file = 'R:/KOGE_BUGT/github/data/mankoff_2020_ice_discharge/koge_bugt_C_ice_discharge.csv'\n",
    "\n",
    "# FOR EACH CSV FILE, EXTRACT THE KOGE BUGT C COLUMN\n",
    "discharge_df = pd.read_csv(discharge_file, usecols=['Date', 'KOGE_BUGT_C'])\n",
    "error_df = pd.read_csv(error_file, usecols=['Date', 'KOGE_BUGT_C'])\n",
    "coverage_df = pd.read_csv(coverage_file, usecols=['Date', 'KOGE_BUGT_C'])\n",
    "\n",
    "# RENAME EACH COLUMN (DISCHARGE, ERROR, COVERAGE)\n",
    "discharge_df = discharge_df.rename(columns={'KOGE_BUGT_C': 'Discharge'})\n",
    "error_df = error_df.rename(columns={'KOGE_BUGT_C': 'Error'})\n",
    "coverage_df = coverage_df.rename(columns={'KOGE_BUGT_C': 'Coverage'})\n",
    "\n",
    "# COMBINE THE THREE DATAFRAMES, REMOVE ANY OBSERVATIONS WHEN THE COVERAGE IS < 0.5 AND SAVE AS THE SPECIFIED OUTPUT FILE.\n",
    "merged_df = discharge_df.merge(error_df, on='Date').merge(coverage_df, on='Date')\n",
    "filtered_df = merged_df[merged_df['Coverage'] >= 0.5]\n",
    "filtered_df.to_csv(output_file, index=False)\n"
   ]
  },
  {
   "cell_type": "code",
   "execution_count": 5,
   "metadata": {},
   "outputs": [],
   "source": [
    "# COMPLETE THE SAME PROCESS AS ABOVE FOR KOGE_BUGT_N AND KOGE_BUGT_S\n",
    "\n",
    "## KOGE BUGT NORTH \n",
    "output_file_north = 'R:/KOGE_BUGT/github/data/mankoff_2020_ice_discharge/koge_bugt_N_ice_discharge.csv'\n",
    "discharge_df = pd.read_csv(discharge_file, usecols=['Date', 'KOGE_BUGT_N'])\n",
    "error_df = pd.read_csv(error_file, usecols=['Date', 'KOGE_BUGT_N'])\n",
    "coverage_df = pd.read_csv(coverage_file, usecols=['Date', 'KOGE_BUGT_N'])\n",
    "discharge_df = discharge_df.rename(columns={'KOGE_BUGT_N': 'Discharge'})\n",
    "error_df = error_df.rename(columns={'KOGE_BUGT_N': 'Error'})\n",
    "coverage_df = coverage_df.rename(columns={'KOGE_BUGT_N': 'Coverage'})\n",
    "merged_df = discharge_df.merge(error_df, on='Date').merge(coverage_df, on='Date')\n",
    "filtered_df = merged_df[merged_df['Coverage'] >= 0.5]\n",
    "filtered_df.to_csv(output_file_north, index=False)\n",
    "\n",
    "## KOGE BUGT SOUTH\n",
    "output_file_south = 'R:/KOGE_BUGT/github/data/mankoff_2020_ice_discharge/koge_bugt_S_ice_discharge.csv'\n",
    "discharge_df = pd.read_csv(discharge_file, usecols=['Date', 'KOGE_BUGT_S'])\n",
    "error_df = pd.read_csv(error_file, usecols=['Date', 'KOGE_BUGT_S'])\n",
    "coverage_df = pd.read_csv(coverage_file, usecols=['Date', 'KOGE_BUGT_S'])\n",
    "discharge_df = discharge_df.rename(columns={'KOGE_BUGT_S': 'Discharge'})\n",
    "error_df = error_df.rename(columns={'KOGE_BUGT_S': 'Error'})\n",
    "coverage_df = coverage_df.rename(columns={'KOGE_BUGT_S': 'Coverage'})\n",
    "merged_df = discharge_df.merge(error_df, on='Date').merge(coverage_df, on='Date')\n",
    "filtered_df = merged_df[merged_df['Coverage'] >= 0.5]\n",
    "filtered_df.to_csv(output_file_south, index=False)\n"
   ]
  }
 ],
 "metadata": {
  "kernelspec": {
   "display_name": "velocity_download",
   "language": "python",
   "name": "python3"
  },
  "language_info": {
   "codemirror_mode": {
    "name": "ipython",
    "version": 3
   },
   "file_extension": ".py",
   "mimetype": "text/x-python",
   "name": "python",
   "nbconvert_exporter": "python",
   "pygments_lexer": "ipython3",
   "version": "3.11.4"
  }
 },
 "nbformat": 4,
 "nbformat_minor": 2
}
